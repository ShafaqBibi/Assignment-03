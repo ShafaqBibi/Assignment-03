{
 "cells": [
  {
   "cell_type": "code",
   "execution_count": 11,
   "id": "e75b04aa",
   "metadata": {},
   "outputs": [
    {
     "name": "stdout",
     "output_type": "stream",
     "text": [
      "Twinkle, twinkle, little star,\n",
      "\t How I wonder what you are!\n",
      "\t\t Up above the world so high,\n",
      "\t\t Like a diamond in the sky.\n",
      "Twinkle, twinkle, little star,\n",
      "\t How I wonder what you are\n"
     ]
    }
   ],
   "source": [
    "#Question : 01\n",
    "#Write a Python program to print the following string in a specific format (see the output).\n",
    "\n",
    "#Twinkle, twinkle, little star,\n",
    "#         How I wonder what you are!\n",
    "#                Up above the world so high,\n",
    "#                Like a diamond in the sky.\n",
    "#Twinkle, twinkle, little star,\n",
    "#         How I wonder what you are \n",
    "\n",
    "print(\"Twinkle, twinkle, little star,\\n\\t How I wonder what you are!\\n\\t\\t Up above the world so high,\");\n",
    "print(\"\\t\\t Like a diamond in the sky.\\nTwinkle, twinkle, little star,\\n\\t How I wonder what you are\");\n"
   ]
  },
  {
   "cell_type": "code",
   "execution_count": 14,
   "id": "55cfb72e",
   "metadata": {},
   "outputs": [
    {
     "name": "stdout",
     "output_type": "stream",
     "text": [
      "Python Version:  3.8.8 (default, Apr 13 2021, 15:08:03) [MSC v.1916 64 bit (AMD64)]\n"
     ]
    }
   ],
   "source": [
    "#Question : 02\n",
    "#Write a Python program to get the Python version you are using\n",
    "\n",
    "import sys;\n",
    "print(\"Python Version: \",sys.version);"
   ]
  },
  {
   "cell_type": "code",
   "execution_count": 17,
   "id": "780ed57c",
   "metadata": {},
   "outputs": [
    {
     "name": "stdout",
     "output_type": "stream",
     "text": [
      "2021-10-24 19:55:53.781055\n"
     ]
    }
   ],
   "source": [
    "#Question : 03\n",
    "#Write a Python program to display the current date and time.\n",
    "\n",
    "from datetime import datetime;\n",
    "print(datetime.now());\n"
   ]
  },
  {
   "cell_type": "code",
   "execution_count": 25,
   "id": "78d4bb75",
   "metadata": {},
   "outputs": [
    {
     "name": "stdout",
     "output_type": "stream",
     "text": [
      "Enter any number as a value of Radius: 5\n",
      "The Area of Circle is:  78.5\n"
     ]
    }
   ],
   "source": [
    "#Question : 04\n",
    "#Write a Python program which accepts the radius of a circle from the user and compute the area.\n",
    "\n",
    "Radius = int(input(\"Enter any number as a value of Radius: \"));\n",
    "\n",
    "print(\"The Area of Circle is: \",3.14*Radius**2);"
   ]
  },
  {
   "cell_type": "code",
   "execution_count": 27,
   "id": "5918ea0b",
   "metadata": {},
   "outputs": [
    {
     "name": "stdout",
     "output_type": "stream",
     "text": [
      "Enter your first name: Shafaq\n",
      "Enter your last name: Bibi\n",
      "Bibi Shafaq\n"
     ]
    }
   ],
   "source": [
    "#Question : 05\n",
    "#Write a Python program which accepts the user's first and last name and print them in reverse order with a space between them.\n",
    "\n",
    "fname = input(\"Enter your first name: \");\n",
    "lname = input(\"Enter your last name: \");\n",
    "\n",
    "print(lname+\" \"+fname);"
   ]
  },
  {
   "cell_type": "code",
   "execution_count": 28,
   "id": "4130c18a",
   "metadata": {},
   "outputs": [
    {
     "name": "stdout",
     "output_type": "stream",
     "text": [
      "Enter 1st number: 5\n",
      "Enter 2nd number: 2\n",
      "7\n"
     ]
    }
   ],
   "source": [
    "#Question : 06\n",
    "#Write a python program which takes two inputs from user and print them addition\n",
    "\n",
    "num1 = int(input(\"Enter 1st number: \"));\n",
    "num2 = int(input(\"Enter 2nd number: \"));\n",
    "\n",
    "print(num1+num2);"
   ]
  },
  {
   "cell_type": "code",
   "execution_count": 29,
   "id": "9260952a",
   "metadata": {},
   "outputs": [
    {
     "name": "stdout",
     "output_type": "stream",
     "text": [
      "Enter English Marks: 70\n",
      "Enter Islamiat Marks: 85\n",
      "Enter Mathematics Marks: 65.5\n",
      "Enter Urdu Marks: 80\n",
      "Enter Computer Marks: 85\n",
      "Percentage:  77.10000000000001\n",
      "Keep it up!...\n",
      "You Got A Grade\n"
     ]
    }
   ],
   "source": [
    "#Question : 07\n",
    "#Write a program which takes 5 inputs from user for different subject’s marks, total it and generate mark sheet using grades ?\n",
    "\n",
    "English = float(input(\"Enter English Marks: \"));\n",
    "Islamiat = float(input(\"Enter Islamiat Marks: \"));\n",
    "Mathematics = float(input(\"Enter Mathematics Marks: \"));\n",
    "Urdu = float(input(\"Enter Urdu Marks: \"));\n",
    "Computer = float(input(\"Enter Computer Marks: \"));\n",
    "\n",
    "Total_Marks = 500;\n",
    "\n",
    "Obtained_Matks = (English + Islamiat + Mathematics + Urdu + Computer);\n",
    "\n",
    "Percentage = (Obtained_Matks/Total_Marks)*100;\n",
    "\n",
    "print(\"Percentage: \",Percentage);\n",
    "\n",
    "if Percentage>100:\n",
    "    print(\"A percentage more than 100 is invalid...Please give marks within the range of 100\");\n",
    "\n",
    "elif Percentage<=100 and Percentage>=97.99:\n",
    "    print(\"Congratulations...\\nYou Got 1st Possition\");\n",
    "    \n",
    "elif Percentage<97.99 and Percentage>=94.99:\n",
    "    print(\"Congratulations...\\nYou Got 2nd Possition\");\n",
    "    \n",
    "elif Percentage<94.99 and Percentage>=90.99:\n",
    "    print(\"Congratulations...\\nYou Got 3rd Possition\");\n",
    "    \n",
    "elif Percentage<90.99 and Percentage>=80.99:\n",
    "    print(\"Keep it up!...\\nYou Got A+ Grade\");  \n",
    "    \n",
    "elif Percentage<80.99 and Percentage>=70.99:\n",
    "    print(\"Keep it up!...\\nYou Got A Grade\");\n",
    "    \n",
    "elif Percentage<70.99 and Percentage>=60.99:\n",
    "    print(\"Do more hardwork for better!...\\nYou Got B Grade\");  \n",
    "    \n",
    "elif Percentage<60.99 and Percentage>=54.99:\n",
    "    print(\"Need hardwork!...\\nYou Got C Grade\");\n",
    "    \n",
    "elif Percentage<54.99 and Percentage>=50:\n",
    "    print(\"Need very hardwork!...\\nYou Got D Grade\");     \n",
    "    \n",
    "else:\n",
    "    print(\"Sorry try on second attempt! You can do better\");"
   ]
  },
  {
   "cell_type": "code",
   "execution_count": 32,
   "id": "c5f8717f",
   "metadata": {},
   "outputs": [
    {
     "name": "stdout",
     "output_type": "stream",
     "text": [
      "Enter any number: 1011\n",
      "Number is Odd\n"
     ]
    }
   ],
   "source": [
    "#Question : 08\n",
    "#Write a program which take input from user and identify that the given number is even or odd?\n",
    "\n",
    "num = int(input(\"Enter any number: \"));\n",
    "\n",
    "if num%2 == 0:\n",
    "    print(\"Number is Even\");\n",
    "else:\n",
    "    print(\"Number is Odd\");"
   ]
  },
  {
   "cell_type": "code",
   "execution_count": 35,
   "id": "eb1ff1a0",
   "metadata": {},
   "outputs": [
    {
     "name": "stdout",
     "output_type": "stream",
     "text": [
      "Length of List is:  5\n"
     ]
    }
   ],
   "source": [
    "#Question : 09\n",
    "#Write a program which print the length of the list?\n",
    "\n",
    "Mylist = [12, 5.2, 'Shafaq', True, 856];\n",
    "print(\"Length of List is: \",len(Mylist));"
   ]
  },
  {
   "cell_type": "code",
   "execution_count": 36,
   "id": "42c919e7",
   "metadata": {},
   "outputs": [
    {
     "name": "stdout",
     "output_type": "stream",
     "text": [
      "956\n"
     ]
    }
   ],
   "source": [
    "#Question : 10\n",
    "#Write a Python program to sum all the numeric items in a list?\n",
    "\n",
    "sum = 0;\n",
    "Mylist = [12, 78, 856, 10];\n",
    "for item in range(0,len(Mylist)):\n",
    "    sum = sum+Mylist[item];\n",
    "    \n",
    "print(sum);        \n",
    "\n",
    "\n"
   ]
  },
  {
   "cell_type": "code",
   "execution_count": 39,
   "id": "254da810",
   "metadata": {},
   "outputs": [
    {
     "name": "stdout",
     "output_type": "stream",
     "text": [
      "Largest number of list is:  856\n"
     ]
    }
   ],
   "source": [
    "#Question : 11\n",
    "#Write a Python program to get the largest number from a numeric list.\n",
    "\n",
    "Mylist = [12, 78, 856, 10];\n",
    "\n",
    "print(\"Largest number of list is: \", max(Mylist));"
   ]
  },
  {
   "cell_type": "code",
   "execution_count": 44,
   "id": "874b2adc",
   "metadata": {},
   "outputs": [
    {
     "name": "stdout",
     "output_type": "stream",
     "text": [
      "3\n",
      "1\n",
      "0\n"
     ]
    }
   ],
   "source": [
    "#Question : 12\n",
    "#Take a list, say for example this one:\n",
    "#a = [1, 1, 2, 3, 5, 8, 13, 21, 34, 55, 89]\n",
    "#Write a program that prints out all the elements of the list that are less than 5.\n",
    "\n",
    "Mylist = [5, 78, 8, 6, 10, 3, 1, 0];\n",
    "for item in range(0,len(Mylist)):\n",
    "    if Mylist[item] <5:\n",
    "        print(Mylist[item]);"
   ]
  }
 ],
 "metadata": {
  "kernelspec": {
   "display_name": "Python 3",
   "language": "python",
   "name": "python3"
  },
  "language_info": {
   "codemirror_mode": {
    "name": "ipython",
    "version": 3
   },
   "file_extension": ".py",
   "mimetype": "text/x-python",
   "name": "python",
   "nbconvert_exporter": "python",
   "pygments_lexer": "ipython3",
   "version": "3.8.8"
  }
 },
 "nbformat": 4,
 "nbformat_minor": 5
}
